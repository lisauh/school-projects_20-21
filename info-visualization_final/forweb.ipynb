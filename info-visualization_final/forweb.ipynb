{
 "cells": [
  {
   "cell_type": "code",
   "execution_count": 4,
   "metadata": {},
   "outputs": [],
   "source": [
    "import pandas as pd\n",
    "import glob\n",
    "import matplotlib.pyplot as plt\n",
    "from matplotlib.ticker import FuncFormatter\n",
    "import numpy as np"
   ]
  },
  {
   "cell_type": "code",
   "execution_count": 5,
   "metadata": {},
   "outputs": [],
   "source": [
    "to_files = glob.glob(\"bylines/*-TO.csv\")\n",
    "from_files = glob.glob(\"bylines/*-FROM.csv\")"
   ]
  },
  {
   "cell_type": "code",
   "execution_count": 6,
   "metadata": {},
   "outputs": [],
   "source": [
    "def get_df(files,filenum):\n",
    "    df = pd.read_csv(files[filenum])\n",
    "    \n",
    "    hours = []\n",
    "    delay = []\n",
    "    for index, row in df.iterrows():\n",
    "        hours.append(row[\"scheduled_time\"][:2])\n",
    "        delay.append(int(row[\"delay_minutes\"]))\n",
    "        \n",
    "    df[\"hour\"] = hours\n",
    "    df[\"delay\"] = delay\n",
    "    \n",
    "    return df"
   ]
  },
  {
   "cell_type": "code",
   "execution_count": 7,
   "metadata": {},
   "outputs": [],
   "source": [
    "def save_to_ny_df(df):\n",
    "    save_to_ny = df[[\"week_day\", \"hour\", \"delay\"]].copy()\n",
    "    \n",
    "    linename = str(df[\"line\"].iloc[0]).replace(\" \", \"-\")\n",
    "    savefile = linename + \"_TO-NY\"\n",
    "    \n",
    "    return(save_to_ny)\n",
    "    #save_to_ny.to_csv(r\"forweb/{}.csv\".format(savefile),index=False)"
   ]
  },
  {
   "cell_type": "code",
   "execution_count": 8,
   "metadata": {},
   "outputs": [],
   "source": [
    "def save_from_ny_df(df):\n",
    "    save_from_ny = df[[\"week_day\", \"hour\", \"delay\"]].copy()\n",
    "    \n",
    "    linename = str(df[\"line\"].iloc[0]).replace(\" \", \"-\")\n",
    "    savefile = linename + \"_FROM-NY\"\n",
    "    \n",
    "    save_from_ny.to_csv(r\"forweb/{}.csv\".format(savefile),index=False)"
   ]
  },
  {
   "cell_type": "code",
   "execution_count": 11,
   "metadata": {},
   "outputs": [],
   "source": [
    "a = []\n",
    "for filenum in range(len(to_files)):\n",
    "    to_df = get_df(to_files,filenum)\n",
    "    a.append(save_to_ny_df(to_df))"
   ]
  },
  {
   "cell_type": "code",
   "execution_count": 14,
   "metadata": {},
   "outputs": [
    {
     "data": {
      "text/html": [
       "<div>\n",
       "<style scoped>\n",
       "    .dataframe tbody tr th:only-of-type {\n",
       "        vertical-align: middle;\n",
       "    }\n",
       "\n",
       "    .dataframe tbody tr th {\n",
       "        vertical-align: top;\n",
       "    }\n",
       "\n",
       "    .dataframe thead th {\n",
       "        text-align: right;\n",
       "    }\n",
       "</style>\n",
       "<table border=\"1\" class=\"dataframe\">\n",
       "  <thead>\n",
       "    <tr style=\"text-align: right;\">\n",
       "      <th></th>\n",
       "      <th>week_day</th>\n",
       "      <th>hour</th>\n",
       "      <th>delay</th>\n",
       "    </tr>\n",
       "  </thead>\n",
       "  <tbody>\n",
       "    <tr>\n",
       "      <th>0</th>\n",
       "      <td>Wed</td>\n",
       "      <td>06</td>\n",
       "      <td>4</td>\n",
       "    </tr>\n",
       "    <tr>\n",
       "      <th>1</th>\n",
       "      <td>Wed</td>\n",
       "      <td>13</td>\n",
       "      <td>6</td>\n",
       "    </tr>\n",
       "    <tr>\n",
       "      <th>2</th>\n",
       "      <td>Wed</td>\n",
       "      <td>19</td>\n",
       "      <td>0</td>\n",
       "    </tr>\n",
       "    <tr>\n",
       "      <th>3</th>\n",
       "      <td>Wed</td>\n",
       "      <td>15</td>\n",
       "      <td>0</td>\n",
       "    </tr>\n",
       "    <tr>\n",
       "      <th>4</th>\n",
       "      <td>Wed</td>\n",
       "      <td>22</td>\n",
       "      <td>2</td>\n",
       "    </tr>\n",
       "  </tbody>\n",
       "</table>\n",
       "</div>"
      ],
      "text/plain": [
       "  week_day hour  delay\n",
       "0      Wed   06      4\n",
       "1      Wed   13      6\n",
       "2      Wed   19      0\n",
       "3      Wed   15      0\n",
       "4      Wed   22      2"
      ]
     },
     "execution_count": 14,
     "metadata": {},
     "output_type": "execute_result"
    }
   ],
   "source": [
    "a[4].head()"
   ]
  },
  {
   "cell_type": "code",
   "execution_count": 27,
   "metadata": {},
   "outputs": [],
   "source": [
    "for filenum in range(len(from_files)):\n",
    "    from_df = get_df(from_files,filenum)\n",
    "    save_from_ny_df(from_df)"
   ]
  },
  {
   "cell_type": "code",
   "execution_count": 28,
   "metadata": {},
   "outputs": [],
   "source": [
    "splitfiles = glob.glob(\"forweb/*-NY.csv\")"
   ]
  },
  {
   "cell_type": "code",
   "execution_count": 86,
   "metadata": {},
   "outputs": [],
   "source": [
    "for file in splitfiles:\n",
    "    df = pd.read_csv(file)\n",
    "    df_forhist = df[[\"delay\"]].copy()\n",
    "    \n",
    "    df_forhist.to_csv(r\"{}{}.csv\".format(file[:-4],\"-hist\"),index=False)"
   ]
  },
  {
   "cell_type": "code",
   "execution_count": 46,
   "metadata": {},
   "outputs": [],
   "source": [
    "for file1 in splitfiles:\n",
    "    df1 = pd.read_csv(file1)\n",
    "    m1 = df1.groupby(by=[\"week_day\",\"hour\"], as_index = False).mean()\n",
    "    \n",
    "    c1 = df1.groupby(by=[\"week_day\",\"hour\"])[\"delay\"].apply(list)\n",
    "    c1 = c1.reset_index()\n",
    "    delay_pc = []\n",
    "    for index1, row1 in c1.iterrows():\n",
    "        zero_count = 0\n",
    "        for ic in row1[\"delay\"]:\n",
    "            if ic == 0:\n",
    "                zero_count = zero_count+1\n",
    "        zeros = 1-zero_count/len(row1[\"delay\"])\n",
    "        delay_pc.append(zeros)\n",
    "    c1[\"delay_percent\"] = delay_pc\n",
    "    \n",
    "    heat_df = pd.merge(c1,m1, on=[\"week_day\",\"hour\"])\n",
    "    heatdata = heat_df[[\"delay_percent\",\"delay_y\"]].values.tolist()\n",
    "    heat_df[\"heatdata\"] = heatdata\n",
    "    \n",
    "    df_forheat = heat_df[[\"week_day\",\"hour\",\"heatdata\"]].copy()\n",
    "    \n",
    "    df_forheat.to_csv(r\"{}{}.csv\".format(file1,\"-heat\"),index=False)"
   ]
  },
  {
   "cell_type": "code",
   "execution_count": null,
   "metadata": {},
   "outputs": [],
   "source": []
  }
 ],
 "metadata": {
  "kernelspec": {
   "display_name": "Python 3",
   "language": "python",
   "name": "python3"
  },
  "language_info": {
   "codemirror_mode": {
    "name": "ipython",
    "version": 3
   },
   "file_extension": ".py",
   "mimetype": "text/x-python",
   "name": "python",
   "nbconvert_exporter": "python",
   "pygments_lexer": "ipython3",
   "version": "3.8.1"
  }
 },
 "nbformat": 4,
 "nbformat_minor": 4
}
