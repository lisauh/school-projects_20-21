{
 "cells": [
  {
   "cell_type": "code",
   "execution_count": 1,
   "metadata": {},
   "outputs": [],
   "source": [
    "import pandas as pd\n",
    "import glob\n",
    "from datetime import datetime"
   ]
  },
  {
   "cell_type": "code",
   "execution_count": 4,
   "metadata": {},
   "outputs": [
    {
     "data": {
      "text/plain": [
       "array(['departed', 'estimated', 'cancelled'], dtype=object)"
      ]
     },
     "execution_count": 4,
     "metadata": {},
     "output_type": "execute_result"
    }
   ],
   "source": [
    "q = pd.read_csv(\"monthlies/2018_03.csv\")\n",
    "q[\"status\"].unique()"
   ]
  },
  {
   "cell_type": "code",
   "execution_count": 2,
   "metadata": {},
   "outputs": [],
   "source": [
    "# get all .csv files in a list\n",
    "files = glob.glob(\"monthlies/*.csv\")\n",
    "\n",
    "trains = pd.concat([pd.read_csv(f) for f in files], ignore_index = True)"
   ]
  },
  {
   "cell_type": "code",
   "execution_count": 5,
   "metadata": {},
   "outputs": [],
   "source": [
    "trains = trains[trains[\"type\"]==\"NJ Transit\"]\n",
    "trains = trains[trains[\"status\"].isin([\"departed\",\"estimated\"])]\n",
    "trains = trains.dropna()"
   ]
  },
  {
   "cell_type": "code",
   "execution_count": 6,
   "metadata": {},
   "outputs": [],
   "source": [
    "trains = trains.rename(columns={\"scheduled_time\":\"scheduled_datetime\",\"actual_time\":\"actual_datetime\"})"
   ]
  },
  {
   "cell_type": "code",
   "execution_count": 7,
   "metadata": {},
   "outputs": [],
   "source": [
    "trains[[\"scheduled_date\",\"scheduled_time\"]] = trains[\"scheduled_datetime\"].str.split(\" \",expand=True,)\n",
    "trains[[\"actual_date\",\"actual_time\"]] = trains[\"actual_datetime\"].str.split(\" \",expand=True,)"
   ]
  },
  {
   "cell_type": "code",
   "execution_count": 8,
   "metadata": {},
   "outputs": [],
   "source": [
    "trains = trains.drop(columns=[\"scheduled_datetime\",\"actual_datetime\",\"date\"])"
   ]
  },
  {
   "cell_type": "code",
   "execution_count": 9,
   "metadata": {},
   "outputs": [],
   "source": [
    "trains = trains.reset_index()"
   ]
  },
  {
   "cell_type": "code",
   "execution_count": 21,
   "metadata": {},
   "outputs": [],
   "source": [
    "inbound = \"New York Penn Station\"\n",
    "\n",
    "q = trains[trains[\"to\"]==inbound]\n",
    "# first stop is just origin station to origin station\n",
    "q = q[q[\"stop_sequence\"]>1]"
   ]
  },
  {
   "cell_type": "code",
   "execution_count": 22,
   "metadata": {},
   "outputs": [],
   "source": [
    "from_ny = trains[(trains[\"from\"]==\"New York Penn Station\") & (trains[\"stop_sequence\"]>1)]\n",
    "from_ids = from_ny[\"train_id\"]\n",
    "\n",
    "from_trains = trains[(trains[\"train_id\"].isin(from_ids)) & (trains[\"stop_sequence\"]>1)]\n",
    "from_trains = from_trains.reset_index()"
   ]
  },
  {
   "cell_type": "code",
   "execution_count": 23,
   "metadata": {},
   "outputs": [],
   "source": [
    "# w = pd.DataFrame(columns=trains.columns)\n",
    "\n",
    "#start_train_id = from_trains[\"train_id\"].iloc[0]\n",
    "#location = 0\n",
    "#for index, row in from_trains.iterrows():\n",
    "#    if row[\"train_id\"]==start_train_id:\n",
    "#        pass\n",
    "#    else:\n",
    "#        w.loc[location] = from_trains.iloc[index-1]\n",
    "#        location = location + 1\n",
    "#        start_train_id = row[\"train_id\"]"
   ]
  },
  {
   "cell_type": "code",
   "execution_count": 24,
   "metadata": {},
   "outputs": [],
   "source": [
    "dow = (\"Mon\",\"Tue\",\"Wed\",\"Thu\",\"Fri\",\"Sat\",\"Sun\")\n",
    "\n",
    "qweek_day = []\n",
    "for index, row in q.iterrows():\n",
    "    thisdate = datetime.strptime(row[\"scheduled_date\"], \"%Y-%m-%d\")\n",
    "    qweek_day.append(dow[thisdate.weekday()])\n",
    "    \n",
    "#wweek_day = []\n",
    "#for index, row in w.iterrows():\n",
    "#    thisdate = datetime.strptime(row[\"scheduled_date\"], \"%Y-%m-%d\")\n",
    "#    wweek_day.append(dow[thisdate.weekday()])"
   ]
  },
  {
   "cell_type": "code",
   "execution_count": 25,
   "metadata": {},
   "outputs": [],
   "source": [
    "q[\"week_day\"] = qweek_day\n",
    "#w[\"week_day\"] = wweek_day"
   ]
  },
  {
   "cell_type": "code",
   "execution_count": 26,
   "metadata": {},
   "outputs": [
    {
     "data": {
      "text/plain": [
       "6"
      ]
     },
     "execution_count": 26,
     "metadata": {},
     "output_type": "execute_result"
    }
   ],
   "source": [
    "lines = q[\"line\"].unique()\n",
    "len(lines)"
   ]
  },
  {
   "cell_type": "code",
   "execution_count": 27,
   "metadata": {},
   "outputs": [],
   "source": [
    "q = q.reset_index()"
   ]
  },
  {
   "cell_type": "code",
   "execution_count": 29,
   "metadata": {},
   "outputs": [
    {
     "data": {
      "text/html": [
       "<div>\n",
       "<style scoped>\n",
       "    .dataframe tbody tr th:only-of-type {\n",
       "        vertical-align: middle;\n",
       "    }\n",
       "\n",
       "    .dataframe tbody tr th {\n",
       "        vertical-align: top;\n",
       "    }\n",
       "\n",
       "    .dataframe thead th {\n",
       "        text-align: right;\n",
       "    }\n",
       "</style>\n",
       "<table border=\"1\" class=\"dataframe\">\n",
       "  <thead>\n",
       "    <tr style=\"text-align: right;\">\n",
       "      <th></th>\n",
       "      <th>level_0</th>\n",
       "      <th>index</th>\n",
       "      <th>train_id</th>\n",
       "      <th>stop_sequence</th>\n",
       "      <th>from</th>\n",
       "      <th>from_id</th>\n",
       "      <th>to</th>\n",
       "      <th>to_id</th>\n",
       "      <th>delay_minutes</th>\n",
       "      <th>status</th>\n",
       "      <th>line</th>\n",
       "      <th>type</th>\n",
       "      <th>scheduled_date</th>\n",
       "      <th>scheduled_time</th>\n",
       "      <th>actual_date</th>\n",
       "      <th>actual_time</th>\n",
       "      <th>week_day</th>\n",
       "    </tr>\n",
       "  </thead>\n",
       "  <tbody>\n",
       "    <tr>\n",
       "      <th>0</th>\n",
       "      <td>65</td>\n",
       "      <td>82</td>\n",
       "      <td>7812</td>\n",
       "      <td>14.0</td>\n",
       "      <td>Secaucus Upper Lvl</td>\n",
       "      <td>38187.0</td>\n",
       "      <td>New York Penn Station</td>\n",
       "      <td>105.0</td>\n",
       "      <td>0.0</td>\n",
       "      <td>estimated</td>\n",
       "      <td>Northeast Corrdr</td>\n",
       "      <td>NJ Transit</td>\n",
       "      <td>2019-01-01</td>\n",
       "      <td>08:32:00</td>\n",
       "      <td>2019-01-01</td>\n",
       "      <td>08:31:00</td>\n",
       "      <td>Tue</td>\n",
       "    </tr>\n",
       "    <tr>\n",
       "      <th>1</th>\n",
       "      <td>79</td>\n",
       "      <td>130</td>\n",
       "      <td>7824</td>\n",
       "      <td>14.0</td>\n",
       "      <td>Secaucus Upper Lvl</td>\n",
       "      <td>38187.0</td>\n",
       "      <td>New York Penn Station</td>\n",
       "      <td>105.0</td>\n",
       "      <td>0.0</td>\n",
       "      <td>estimated</td>\n",
       "      <td>Northeast Corrdr</td>\n",
       "      <td>NJ Transit</td>\n",
       "      <td>2019-01-01</td>\n",
       "      <td>11:34:00</td>\n",
       "      <td>2019-01-01</td>\n",
       "      <td>11:33:00</td>\n",
       "      <td>Tue</td>\n",
       "    </tr>\n",
       "    <tr>\n",
       "      <th>2</th>\n",
       "      <td>121</td>\n",
       "      <td>172</td>\n",
       "      <td>7848</td>\n",
       "      <td>14.0</td>\n",
       "      <td>Secaucus Upper Lvl</td>\n",
       "      <td>38187.0</td>\n",
       "      <td>New York Penn Station</td>\n",
       "      <td>105.0</td>\n",
       "      <td>11.0</td>\n",
       "      <td>estimated</td>\n",
       "      <td>Northeast Corrdr</td>\n",
       "      <td>NJ Transit</td>\n",
       "      <td>2019-01-01</td>\n",
       "      <td>17:36:00</td>\n",
       "      <td>2019-01-01</td>\n",
       "      <td>17:47:00</td>\n",
       "      <td>Tue</td>\n",
       "    </tr>\n",
       "    <tr>\n",
       "      <th>3</th>\n",
       "      <td>183</td>\n",
       "      <td>300</td>\n",
       "      <td>7846</td>\n",
       "      <td>11.0</td>\n",
       "      <td>Secaucus Upper Lvl</td>\n",
       "      <td>38187.0</td>\n",
       "      <td>New York Penn Station</td>\n",
       "      <td>105.0</td>\n",
       "      <td>2.0</td>\n",
       "      <td>estimated</td>\n",
       "      <td>Northeast Corrdr</td>\n",
       "      <td>NJ Transit</td>\n",
       "      <td>2019-01-01</td>\n",
       "      <td>16:46:00</td>\n",
       "      <td>2019-01-01</td>\n",
       "      <td>16:48:00</td>\n",
       "      <td>Tue</td>\n",
       "    </tr>\n",
       "    <tr>\n",
       "      <th>4</th>\n",
       "      <td>221</td>\n",
       "      <td>343</td>\n",
       "      <td>7822</td>\n",
       "      <td>11.0</td>\n",
       "      <td>Secaucus Upper Lvl</td>\n",
       "      <td>38187.0</td>\n",
       "      <td>New York Penn Station</td>\n",
       "      <td>105.0</td>\n",
       "      <td>0.0</td>\n",
       "      <td>estimated</td>\n",
       "      <td>Northeast Corrdr</td>\n",
       "      <td>NJ Transit</td>\n",
       "      <td>2019-01-01</td>\n",
       "      <td>10:43:00</td>\n",
       "      <td>2019-01-01</td>\n",
       "      <td>10:42:00</td>\n",
       "      <td>Tue</td>\n",
       "    </tr>\n",
       "  </tbody>\n",
       "</table>\n",
       "</div>"
      ],
      "text/plain": [
       "   level_0  index train_id  stop_sequence                from  from_id  \\\n",
       "0       65     82     7812           14.0  Secaucus Upper Lvl  38187.0   \n",
       "1       79    130     7824           14.0  Secaucus Upper Lvl  38187.0   \n",
       "2      121    172     7848           14.0  Secaucus Upper Lvl  38187.0   \n",
       "3      183    300     7846           11.0  Secaucus Upper Lvl  38187.0   \n",
       "4      221    343     7822           11.0  Secaucus Upper Lvl  38187.0   \n",
       "\n",
       "                      to  to_id  delay_minutes     status              line  \\\n",
       "0  New York Penn Station  105.0            0.0  estimated  Northeast Corrdr   \n",
       "1  New York Penn Station  105.0            0.0  estimated  Northeast Corrdr   \n",
       "2  New York Penn Station  105.0           11.0  estimated  Northeast Corrdr   \n",
       "3  New York Penn Station  105.0            2.0  estimated  Northeast Corrdr   \n",
       "4  New York Penn Station  105.0            0.0  estimated  Northeast Corrdr   \n",
       "\n",
       "         type scheduled_date scheduled_time actual_date actual_time week_day  \n",
       "0  NJ Transit     2019-01-01       08:32:00  2019-01-01    08:31:00      Tue  \n",
       "1  NJ Transit     2019-01-01       11:34:00  2019-01-01    11:33:00      Tue  \n",
       "2  NJ Transit     2019-01-01       17:36:00  2019-01-01    17:47:00      Tue  \n",
       "3  NJ Transit     2019-01-01       16:46:00  2019-01-01    16:48:00      Tue  \n",
       "4  NJ Transit     2019-01-01       10:43:00  2019-01-01    10:42:00      Tue  "
      ]
     },
     "execution_count": 29,
     "metadata": {},
     "output_type": "execute_result"
    }
   ],
   "source": [
    "q.head()"
   ]
  },
  {
   "cell_type": "code",
   "execution_count": 30,
   "metadata": {},
   "outputs": [],
   "source": [
    "for linename in lines:\n",
    "    qtosave = q[q[\"line\"]==linename]\n",
    "    qtosave.to_csv(r\"bylines/{}-TO.csv\".format(linename),index=False)\n",
    "    \n",
    "    #wtosave = q[q[\"line\"]==linename]\n",
    "    #wtosave.to_csv(r\"bylines/{}-FROM.csv\".format(linename),index=False)"
   ]
  },
  {
   "cell_type": "code",
   "execution_count": null,
   "metadata": {},
   "outputs": [],
   "source": []
  }
 ],
 "metadata": {
  "kernelspec": {
   "display_name": "Python 3",
   "language": "python",
   "name": "python3"
  },
  "language_info": {
   "codemirror_mode": {
    "name": "ipython",
    "version": 3
   },
   "file_extension": ".py",
   "mimetype": "text/x-python",
   "name": "python",
   "nbconvert_exporter": "python",
   "pygments_lexer": "ipython3",
   "version": "3.8.1"
  }
 },
 "nbformat": 4,
 "nbformat_minor": 4
}
