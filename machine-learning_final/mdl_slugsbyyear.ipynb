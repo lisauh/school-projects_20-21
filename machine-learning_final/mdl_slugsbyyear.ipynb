{
 "cells": [
  {
   "cell_type": "code",
   "execution_count": 90,
   "metadata": {},
   "outputs": [],
   "source": [
    "import requests\n",
    "from bs4 import BeautifulSoup"
   ]
  },
  {
   "cell_type": "code",
   "execution_count": 61,
   "metadata": {},
   "outputs": [],
   "source": [
    "def getPages(start_url):\n",
    "    page = requests.get(start_url)\n",
    "    soup = BeautifulSoup(page.content,\"html.parser\")\n",
    "    \n",
    "    last_url = \"https://mydramalist.com\" + soup.find(\"li\",class_=\"page-item last\").find(\"a\").get(\"href\")\n",
    "    \n",
    "    url_list = [start_url]\n",
    "    \n",
    "    while url_list[-1] != last_url:\n",
    "        next_url = \"https://mydramalist.com\" + soup.find(\"li\",class_=\"page-item next\").find(\"a\").get(\"href\")\n",
    "        page = requests.get(next_url)\n",
    "        soup = BeautifulSoup(page.content,\"html.parser\")\n",
    "        url_list.append(next_url)\n",
    "\n",
    "    return url_list"
   ]
  },
  {
   "cell_type": "code",
   "execution_count": 64,
   "metadata": {},
   "outputs": [],
   "source": [
    "def getSlugs(url):\n",
    "    page = requests.get(url)\n",
    "    soup = BeautifulSoup(page.content,\"html.parser\")\n",
    "    \n",
    "    title_list = soup.find_all(\"h6\",class_=\"text-primary title\")\n",
    "    \n",
    "    slug_list = []\n",
    "    for title in title_list:\n",
    "        slug = title.find(\"a\").get(\"href\")\n",
    "        slug_list.append(slug)\n",
    "        \n",
    "    return slug_list"
   ]
  },
  {
   "cell_type": "code",
   "execution_count": 80,
   "metadata": {},
   "outputs": [],
   "source": [
    "# 4-digit year\n",
    "def getByYear(yr):\n",
    "    start_url = \"https://mydramalist.com/search?adv=titles&ty=68&re={},{}&rt=1,10&st=3&so=date\".format(yr,yr)\n",
    "    \n",
    "    url_list = getPages(start_url)\n",
    "    \n",
    "    yr_slugs = []\n",
    "    for url in url_list:\n",
    "        yr_slugs.extend(getSlugs(url))\n",
    "        \n",
    "    filename = \"{}_slugs.txt\".format(yr)\n",
    "    with open(filename, \"w\") as f:\n",
    "        f.write(\"\\n\".join(yr_slugs))"
   ]
  },
  {
   "cell_type": "code",
   "execution_count": 91,
   "metadata": {},
   "outputs": [],
   "source": [
    "for yr in range(2000,2020):\n",
    "    getByYear(yr)"
   ]
  },
  {
   "cell_type": "code",
   "execution_count": 89,
   "metadata": {},
   "outputs": [
    {
     "data": {
      "text/plain": [
       "['/54563-breaking-point-1950',\n",
       " '/50027-rebirth-of-shopping-addict',\n",
       " '/49239-detective-chinatown',\n",
       " '/60529-cometesting',\n",
       " '/60371-seua-chanee-gayng-season-5']"
      ]
     },
     "execution_count": 89,
     "metadata": {},
     "output_type": "execute_result"
    }
   ],
   "source": [
    "with open('2020_slugs.txt', 'r') as f:\n",
    "    slugs = f.read().splitlines()\n",
    "slugs[:5]"
   ]
  }
 ],
 "metadata": {
  "kernelspec": {
   "display_name": "Python 3",
   "language": "python",
   "name": "python3"
  },
  "language_info": {
   "codemirror_mode": {
    "name": "ipython",
    "version": 3
   },
   "file_extension": ".py",
   "mimetype": "text/x-python",
   "name": "python",
   "nbconvert_exporter": "python",
   "pygments_lexer": "ipython3",
   "version": "3.8.1"
  }
 },
 "nbformat": 4,
 "nbformat_minor": 4
}
