{
 "cells": [
  {
   "cell_type": "code",
   "execution_count": 1,
   "id": "a761d370",
   "metadata": {},
   "outputs": [],
   "source": [
    "import pandas as pd\n",
    "import json\n",
    "import matplotlib.pyplot as plt\n",
    "import numpy as np"
   ]
  },
  {
   "cell_type": "code",
   "execution_count": 2,
   "id": "234f2270",
   "metadata": {},
   "outputs": [],
   "source": [
    "from sklearn.model_selection import train_test_split\n",
    "from sklearn import metrics\n",
    "from sklearn.linear_model import LogisticRegression"
   ]
  },
  {
   "cell_type": "code",
   "execution_count": 3,
   "id": "fb6961bc",
   "metadata": {},
   "outputs": [],
   "source": [
    "import imblearn\n",
    "from collections import Counter\n",
    "from imblearn.over_sampling import RandomOverSampler\n",
    "from imblearn.under_sampling import RandomUnderSampler"
   ]
  },
  {
   "cell_type": "code",
   "execution_count": 5,
   "id": "8835d86f",
   "metadata": {},
   "outputs": [],
   "source": [
    "import joblib"
   ]
  },
  {
   "cell_type": "code",
   "execution_count": 4,
   "id": "ef7a705a",
   "metadata": {},
   "outputs": [
    {
     "name": "stdout",
     "output_type": "stream",
     "text": [
      "3.9.1\n"
     ]
    }
   ],
   "source": [
    "# making sure it's 3.9\n",
    "from platform import python_version\n",
    "print(python_version())"
   ]
  },
  {
   "cell_type": "code",
   "execution_count": 5,
   "id": "96c887dc",
   "metadata": {},
   "outputs": [],
   "source": [
    "# based on previous testing, decided to use:\n",
    "## tfidf\n",
    "## logistic regression\n",
    "### {'logreg__C': 10.0,\n",
    "### 'logreg__penalty': 'l2',\n",
    "### 'logreg__random_state': 1,\n",
    "### 'logreg__solver': 'saga'}"
   ]
  },
  {
   "cell_type": "code",
   "execution_count": 6,
   "id": "894e374f",
   "metadata": {},
   "outputs": [],
   "source": [
    "# FINALLY ! here we go"
   ]
  },
  {
   "cell_type": "code",
   "execution_count": 7,
   "id": "3c38c8b4",
   "metadata": {},
   "outputs": [],
   "source": [
    "# loading data files\n",
    "\n",
    "# has clean review text\n",
    "dataset = pd.read_json(\"dramainfo_revclean.json\")\n",
    "\n",
    "# tfidf\n",
    "tfidf_rev = np.load(\"tfidfvec.npy\")\n",
    "tfidf_vocab = np.load(\"tfidfvocab.npy\")"
   ]
  },
  {
   "cell_type": "code",
   "execution_count": 8,
   "id": "f55be5d8",
   "metadata": {},
   "outputs": [],
   "source": [
    "tfidf_dataset = pd.DataFrame(tfidf_rev, columns=[word+\"_tfidf\" for word in tfidf_vocab])\n",
    "tfidf_dataset = tfidf_dataset.join(dataset.iloc[:,-17:-1])"
   ]
  },
  {
   "cell_type": "code",
   "execution_count": 9,
   "id": "e16040c7",
   "metadata": {},
   "outputs": [
    {
     "data": {
      "text/plain": [
       "Index(['aa_tfidf', 'aaa_tfidf', 'aaaa_tfidf', 'aaaaa_tfidf', 'aaaaaa_tfidf',\n",
       "       'aaaaaaaaaaaaaaaaaaaaaaaaaaaaaaaaaaaaaaaaaaaaaaaaaaaaaaaaaaaaaaaaaaaaaaaaaaaaaaaaaaaaaaaaaaaaaaaaaaaaaaaaaaaaaaaaaaaaaaaaaaaaaaaaaaaaaaaaaaaaaaaaaaaaaaaaaaaaaaaaaaaaaaaaaaaaaaaaaaaaaaaaaaaaaaaaaaaaaaaaaaaaaaaaaaaaaaaaaaaaaaaaaaaareview_tfidf',\n",
       "       'aaaaaand_tfidf', 'aaaaah_tfidf', 'aaaaahhh_tfidf', 'aaaaand_tfidf',\n",
       "       ...\n",
       "       'zyl_tfidf', 'zyls_tfidf', 'zyq_tfidf', 'zyt_tfidf', 'zz_tfidf',\n",
       "       'zzh_tfidf', 'zzhs_tfidf', 'zzs_tfidf', 'zzz_tfidf', 'zzzzz_tfidf'],\n",
       "      dtype='object', length=59557)"
      ]
     },
     "execution_count": 9,
     "metadata": {},
     "output_type": "execute_result"
    }
   ],
   "source": [
    "tfidf_dataset.iloc[:,:-16].columns"
   ]
  },
  {
   "cell_type": "code",
   "execution_count": 10,
   "id": "1c5114a4",
   "metadata": {},
   "outputs": [
    {
     "name": "stdout",
     "output_type": "stream",
     "text": [
      "['romance', 'sitcom_comedy', 'comedy', 'war_historical', 'political_drama', 'thriller', 'friendship', 'melodrama_romance', 'drama', 'action', 'historical', 'youth_school', 'fantasy_supernatural_horror', 'mystery', 'life', 'family']\n"
     ]
    }
   ],
   "source": [
    "# names of all genre columns\n",
    "bat_targets = list(dataset.iloc[:,-17:-1].columns)\n",
    "print(bat_targets)"
   ]
  },
  {
   "cell_type": "code",
   "execution_count": 9,
   "id": "5c909274",
   "metadata": {},
   "outputs": [],
   "source": [
    "# if ratio is <0.4, do oversample w strat 0.5\n",
    "# else only downsample\n",
    "def single_strat(minority,majority):\n",
    "    minr, maxr = (0.4,0.6)\n",
    "    \n",
    "    orig_ratio = minority/majority\n",
    "    \n",
    "    if orig_ratio >= minr and orig_ratio <= maxr:\n",
    "        return (None,0.8)\n",
    "    elif orig_ratio > maxr:\n",
    "        return (None,0.8)\n",
    "    else: return (0.5,0.8)"
   ]
  },
  {
   "cell_type": "code",
   "execution_count": 10,
   "id": "db8326bc",
   "metadata": {},
   "outputs": [],
   "source": [
    "def samp_strats(dataset=dataset, bat_targets=bat_targets):\n",
    "    # dict[genre] = (over strat, under strat)\n",
    "    samp_dict = dict()\n",
    "\n",
    "    for gen in bat_targets:\n",
    "        counts = Counter(dataset[gen])   \n",
    "        is_frac = counts[1]/(counts[0]+counts[1])\n",
    "\n",
    "        if is_frac >= 0.45 and is_frac <= 0.55:\n",
    "            samp_dict[gen]= (None,None)\n",
    "\n",
    "        else:\n",
    "            samp_dict[gen] = single_strat(min(counts[0],counts[1]),\n",
    "                                          max(counts[0],counts[1]))\n",
    "\n",
    "    return samp_dict"
   ]
  },
  {
   "cell_type": "code",
   "execution_count": 11,
   "id": "b9292f13",
   "metadata": {},
   "outputs": [
    {
     "data": {
      "text/plain": [
       "{'romance': (None, 0.8),\n",
       " 'sitcom_comedy': (None, 0.8),\n",
       " 'comedy': (None, 0.8),\n",
       " 'war_historical': (0.5, 0.8),\n",
       " 'political_drama': (None, None),\n",
       " 'thriller': (0.5, 0.8),\n",
       " 'friendship': (0.5, 0.8),\n",
       " 'melodrama_romance': (None, 0.8),\n",
       " 'drama': (None, None),\n",
       " 'action': (0.5, 0.8),\n",
       " 'historical': (0.5, 0.8),\n",
       " 'youth_school': (0.5, 0.8),\n",
       " 'fantasy_supernatural_horror': (0.5, 0.8),\n",
       " 'mystery': (0.5, 0.8),\n",
       " 'life': (0.5, 0.8),\n",
       " 'family': (0.5, 0.8)}"
      ]
     },
     "execution_count": 11,
     "metadata": {},
     "output_type": "execute_result"
    }
   ],
   "source": [
    "# over,under\n",
    "samp_dict = samp_strats()\n",
    "samp_dict"
   ]
  },
  {
   "cell_type": "code",
   "execution_count": 85,
   "id": "1c24d65a",
   "metadata": {},
   "outputs": [],
   "source": [
    "def run_clf(genre, tfidf_dataset=tfidf_dataset, samp_dict=samp_dict):    \n",
    "    ov_strat,un_strat = samp_dict[genre]\n",
    "\n",
    "    tt_random_state = 18\n",
    "    # np arrays are faster for some reason\n",
    "    X_train, X_test, y_train, y_test = train_test_split(np.array(tfidf_dataset.iloc[:,:-16]),\n",
    "                                                        np.array(tfidf_dataset[genre]),\n",
    "                                                        test_size=0.3,\n",
    "                                                        random_state=tt_random_state)\n",
    "    \n",
    "    # resampling\n",
    "    if ov_strat != None and un_strat != None:\n",
    "        over = RandomOverSampler(sampling_strategy=ov_strat)\n",
    "        under = RandomUnderSampler(sampling_strategy=un_strat)\n",
    "        X_train,y_train = over.fit_resample(X_train,y_train)\n",
    "        X_train,y_train = under.fit_resample(X_train,y_train)\n",
    "    elif ov_strat == None and un_strat != None:\n",
    "        under = RandomUnderSampler(sampling_strategy=un_strat)\n",
    "        X_train,y_train = under.fit_resample(X_train,y_train)\n",
    "    else: pass\n",
    "    \n",
    "    # classifier\n",
    "    clf = LogisticRegression(penalty=\"l2\", C=10.0, solver=\"saga\", random_state=1)\n",
    "    \n",
    "    clf.fit(X_train,y_train)\n",
    "    \n",
    "    # training,test info to return\n",
    "    tt_split = {\"X_test\":X_test,\n",
    "                \"y_test\":y_test}\n",
    "    \n",
    "    return clf, tt_split"
   ]
  },
  {
   "cell_type": "code",
   "execution_count": 88,
   "id": "cdf35ca9",
   "metadata": {},
   "outputs": [
    {
     "name": "stdout",
     "output_type": "stream",
     "text": [
      "Running for ...                       romance\n",
      "Running for ...                 sitcom_comedy\n",
      "Running for ...                        comedy\n",
      "Running for ...                war_historical\n",
      "Running for ...               political_drama\n",
      "Running for ...                      thriller\n",
      "Running for ...                    friendship\n",
      "Running for ...             melodrama_romance\n",
      "Running for ...                         drama\n",
      "Running for ...                        action\n",
      "Running for ...                    historical\n",
      "Running for ...                  youth_school\n",
      "Running for ...   fantasy_supernatural_horror\n",
      "Running for ...                       mystery\n",
      "Running for ...                          life\n",
      "Running for ...                        family\n"
     ]
    }
   ],
   "source": [
    "clf_dict = dict()\n",
    "test_vars = dict()\n",
    "\n",
    "for genre in bat_targets:\n",
    "    print(\"Running for ...{:>30}\".format(genre))\n",
    "    \n",
    "    clf,tt_split = run_clf(genre)\n",
    "    clf_dict[genre] = clf\n",
    "    \n",
    "    test_vars[genre] = {\"X_test\":tt_split[\"X_test\"],\n",
    "                        \"y_test\":tt_split[\"y_test\"]}"
   ]
  },
  {
   "cell_type": "code",
   "execution_count": 12,
   "id": "013d66f2",
   "metadata": {},
   "outputs": [],
   "source": [
    "# saving models and test data\n",
    "for genre in bat_targets:\n",
    "    mod_filename = genre+\"__model.sav\"\n",
    "    joblib.dump(clf_dict[genre],mod_filename)\n",
    "    \n",
    "    xtest_filename = genre+\"__xtest.npy\"\n",
    "    ytest_filename = genre+\"__ytest.npy\"\n",
    "    np.save(xtest_filename, test_vars[genre][\"X_test\"])\n",
    "    np.save(ytest_filename, test_vars[genre][\"y_test\"])"
   ]
  },
  {
   "cell_type": "code",
   "execution_count": 11,
   "id": "cf09ffe1",
   "metadata": {},
   "outputs": [],
   "source": [
    "# load models, test data\n",
    "\n",
    "clf_dict = dict()\n",
    "test_vars = dict()\n",
    "\n",
    "for genre in bat_targets:\n",
    "    mod_filename = genre+\"__model.sav\"\n",
    "    clf_dict[genre] = joblib.load(mod_filename)\n",
    "    \n",
    "    xtest_filename = genre+\"__xtest.npy\"\n",
    "    ytest_filename = genre+\"__ytest.npy\"\n",
    "    test_vars[genre] = {\"X_test\":np.load(xtest_filename),\n",
    "                         \"y_test\":np.load(ytest_filename)}"
   ]
  },
  {
   "cell_type": "code",
   "execution_count": 12,
   "id": "8eb0c15d",
   "metadata": {},
   "outputs": [],
   "source": [
    "def display_metrics(y_test,y_pred):\n",
    "    accuracy = metrics.accuracy_score(y_test,y_pred)\n",
    "    precision = metrics.precision_score(y_test,y_pred,\n",
    "                                        average=\"binary\")\n",
    "    recall = metrics.recall_score(y_test,y_pred,\n",
    "                                  average=\"binary\")\n",
    "    f1 = metrics.f1_score(y_test,y_pred,\n",
    "                          average=\"binary\")\n",
    "    auc = metrics.roc_auc_score(y_test,y_pred)\n",
    "    \n",
    "    score_str = \"    {:<14}{:>10.4f}\"\n",
    "    \n",
    "    print(\"{:*<40}\".format(\"\"))\n",
    "    print(\"  GENRE: {:<30}\".format(genre))\n",
    "    print(\"{:`<40}\".format(\"\"))\n",
    "    print(score_str.format(\"Accuracy:\",accuracy))\n",
    "    print(score_str.format(\"Precision:\",precision))\n",
    "    print(score_str.format(\"Recall:\",recall))\n",
    "    print(score_str.format(\"F1:\",f1))\n",
    "    print(score_str.format(\"AUC:\",auc))\n",
    "    print(\"{:`<40}\".format(\"\"))\n",
    "    cf = metrics.confusion_matrix(y_test,y_pred)\n",
    "    cf_display = metrics.ConfusionMatrixDisplay(cf).plot()\n",
    "    plt.show()\n",
    "    print(\"{:*<40}\\n\".format(\"\"))\n",
    "    \n",
    "        \n",
    "    metric_data = {\"accuracy\":accuracy,\n",
    "                   \"precision\":precision,\n",
    "                   \"recall\":recall,\n",
    "                   \"fl\":f1,\n",
    "                   \"auc\":auc}\n",
    "    metric_ser = pd.Series(metric_data,name=genre)\n",
    "    return metric_ser"
   ]
  },
  {
   "cell_type": "code",
   "execution_count": 13,
   "id": "d376e7c3",
   "metadata": {},
   "outputs": [],
   "source": [
    "def get_result_df(y_pred, dataset=dataset):\n",
    "    # get splits to join up the predictions, same random state as before\n",
    "    # now with indices\n",
    "    X_train, X_test, y_train, y_test = train_test_split(dataset,\n",
    "                                                        dataset[genre],\n",
    "                                                        test_size=0.3,\n",
    "                                                        random_state=18)\n",
    "    \n",
    "    # need an index for y_pred\n",
    "    y_df = pd.DataFrame({genre+\"_test\":y_test,genre+\"_pred\":y_pred})\n",
    "    \n",
    "    return y_df"
   ]
  },
  {
   "cell_type": "code",
   "execution_count": 14,
   "id": "eca12eab",
   "metadata": {},
   "outputs": [
    {
     "name": "stdout",
     "output_type": "stream",
     "text": [
      "****************************************\n",
      "  GENRE: romance                       \n",
      "````````````````````````````````````````\n",
      "    Accuracy:         0.8351\n",
      "    Precision:        0.8470\n",
      "    Recall:           0.9077\n",
      "    F1:               0.8763\n",
      "    AUC:              0.8058\n",
      "````````````````````````````````````````\n"
     ]
    },
    {
     "data": {
      "image/png": "[encoded data removed]",
      "text/plain": [
       "<Figure size 432x288 with 2 Axes>"
      ]
     },
     "metadata": {
      "needs_background": "light"
     },
     "output_type": "display_data"
    },
    {
     "name": "stdout",
     "output_type": "stream",
     "text": [
      "****************************************\n",
      "\n",
      "****************************************\n",
      "  GENRE: sitcom_comedy                 \n",
      "````````````````````````````````````````\n",
      "    Accuracy:         0.7596\n",
      "    Precision:        0.6494\n",
      "    Recall:           0.6931\n",
      "    F1:               0.6705\n",
      "    AUC:              0.7445\n",
      "````````````````````````````````````````\n"
     ]
    },
    {
     "data": {
      "image/png": "[encoded data removed]",
      "text/plain": [
       "<Figure size 432x288 with 2 Axes>"
      ]
     },
     "metadata": {
      "needs_background": "light"
     },
     "output_type": "display_data"
    },
    {
     "name": "stdout",
     "output_type": "stream",
     "text": [
      "****************************************\n",
      "\n",
      "****************************************\n",
      "  GENRE: comedy                        \n",
      "````````````````````````````````````````\n",
      "    Accuracy:         0.7666\n",
      "    Precision:        0.6518\n",
      "    Recall:           0.7042\n",
      "    F1:               0.6770\n",
      "    AUC:              0.7520\n",
      "````````````````````````````````````````\n"
     ]
    },
    {
     "data": {
      "image/png": "[encoded data removed]",
      "text/plain": [
       "<Figure size 432x288 with 2 Axes>"
      ]
     },
     "metadata": {
      "needs_background": "light"
     },
     "output_type": "display_data"
    },
    {
     "name": "stdout",
     "output_type": "stream",
     "text": [
      "****************************************\n",
      "\n",
      "****************************************\n",
      "  GENRE: war_historical                \n",
      "````````````````````````````````````````\n",
      "    Accuracy:         0.9441\n",
      "    Precision:        0.7313\n",
      "    Recall:           0.8497\n",
      "    F1:               0.7861\n",
      "    AUC:              0.9034\n",
      "````````````````````````````````````````\n"
     ]
    },
    {
     "data": {
      "image/png": "[encoded data removed]",
      "text/plain": [
       "<Figure size 432x288 with 2 Axes>"
      ]
     },
     "metadata": {
      "needs_background": "light"
     },
     "output_type": "display_data"
    },
    {
     "name": "stdout",
     "output_type": "stream",
     "text": [
      "****************************************\n",
      "\n",
      "****************************************\n",
      "  GENRE: political_drama               \n",
      "````````````````````````````````````````\n",
      "    Accuracy:         0.6031\n",
      "    Precision:        0.6429\n",
      "    Recall:           0.6199\n",
      "    F1:               0.6312\n",
      "    AUC:              0.6013\n",
      "````````````````````````````````````````\n"
     ]
    },
    {
     "data": {
      "image/png": "[encoded data removed]",
      "text/plain": [
       "<Figure size 432x288 with 2 Axes>"
      ]
     },
     "metadata": {
      "needs_background": "light"
     },
     "output_type": "display_data"
    },
    {
     "name": "stdout",
     "output_type": "stream",
     "text": [
      "****************************************\n",
      "\n",
      "****************************************\n",
      "  GENRE: thriller                      \n",
      "````````````````````````````````````````\n",
      "    Accuracy:         0.8973\n",
      "    Precision:        0.5130\n",
      "    Recall:           0.5232\n",
      "    F1:               0.5180\n",
      "    AUC:              0.7323\n",
      "````````````````````````````````````````\n"
     ]
    },
    {
     "data": {
      "image/png": "[encoded data removed]",
      "text/plain": [
       "<Figure size 432x288 with 2 Axes>"
      ]
     },
     "metadata": {
      "needs_background": "light"
     },
     "output_type": "display_data"
    },
    {
     "name": "stdout",
     "output_type": "stream",
     "text": [
      "****************************************\n",
      "\n",
      "****************************************\n",
      "  GENRE: friendship                    \n",
      "````````````````````````````````````````\n",
      "    Accuracy:         0.8658\n",
      "    Precision:        0.3212\n",
      "    Recall:           0.3985\n",
      "    F1:               0.3557\n",
      "    AUC:              0.6561\n",
      "````````````````````````````````````````\n"
     ]
    },
    {
     "data": {
      "image/png": "[encoded data removed]",
      "text/plain": [
       "<Figure size 432x288 with 2 Axes>"
      ]
     },
     "metadata": {
      "needs_background": "light"
     },
     "output_type": "display_data"
    },
    {
     "name": "stdout",
     "output_type": "stream",
     "text": [
      "****************************************\n",
      "\n",
      "****************************************\n",
      "  GENRE: melodrama_romance             \n",
      "````````````````````````````````````````\n",
      "    Accuracy:         0.8414\n",
      "    Precision:        0.8540\n",
      "    Recall:           0.9134\n",
      "    F1:               0.8827\n",
      "    AUC:              0.8095\n",
      "````````````````````````````````````````\n"
     ]
    },
    {
     "data": {
      "image/png": "[encoded data removed]",
      "text/plain": [
       "<Figure size 432x288 with 2 Axes>"
      ]
     },
     "metadata": {
      "needs_background": "light"
     },
     "output_type": "display_data"
    },
    {
     "name": "stdout",
     "output_type": "stream",
     "text": [
      "****************************************\n",
      "\n",
      "****************************************\n",
      "  GENRE: drama                         \n",
      "````````````````````````````````````````\n",
      "    Accuracy:         0.5884\n",
      "    Precision:        0.5989\n",
      "    Recall:           0.6046\n",
      "    F1:               0.6018\n",
      "    AUC:              0.5879\n",
      "````````````````````````````````````````\n"
     ]
    },
    {
     "data": {
      "image/png": "[encoded data removed]",
      "text/plain": [
       "<Figure size 432x288 with 2 Axes>"
      ]
     },
     "metadata": {
      "needs_background": "light"
     },
     "output_type": "display_data"
    },
    {
     "name": "stdout",
     "output_type": "stream",
     "text": [
      "****************************************\n",
      "\n",
      "****************************************\n",
      "  GENRE: action                        \n",
      "````````````````````````````````````````\n",
      "    Accuracy:         0.8994\n",
      "    Precision:        0.4065\n",
      "    Recall:           0.5478\n",
      "    F1:               0.4667\n",
      "    AUC:              0.7390\n",
      "````````````````````````````````````````\n"
     ]
    },
    {
     "data": {
      "image/png": "[encoded data removed]",
      "text/plain": [
       "<Figure size 432x288 with 2 Axes>"
      ]
     },
     "metadata": {
      "needs_background": "light"
     },
     "output_type": "display_data"
    },
    {
     "name": "stdout",
     "output_type": "stream",
     "text": [
      "****************************************\n",
      "\n",
      "****************************************\n",
      "  GENRE: historical                    \n",
      "````````````````````````````````````````\n",
      "    Accuracy:         0.9462\n",
      "    Precision:        0.7186\n",
      "    Recall:           0.8720\n",
      "    F1:               0.7879\n",
      "    AUC:              0.9139\n",
      "````````````````````````````````````````\n"
     ]
    },
    {
     "data": {
      "image/png": "[encoded data removed]",
      "text/plain": [
       "<Figure size 432x288 with 2 Axes>"
      ]
     },
     "metadata": {
      "needs_background": "light"
     },
     "output_type": "display_data"
    },
    {
     "name": "stdout",
     "output_type": "stream",
     "text": [
      "****************************************\n",
      "\n",
      "****************************************\n",
      "  GENRE: youth_school                  \n",
      "````````````````````````````````````````\n",
      "    Accuracy:         0.8896\n",
      "    Precision:        0.5622\n",
      "    Recall:           0.6595\n",
      "    F1:               0.6070\n",
      "    AUC:              0.7916\n",
      "````````````````````````````````````````\n"
     ]
    },
    {
     "data": {
      "image/png": "[encoded data removed]",
      "text/plain": [
       "<Figure size 432x288 with 2 Axes>"
      ]
     },
     "metadata": {
      "needs_background": "light"
     },
     "output_type": "display_data"
    },
    {
     "name": "stdout",
     "output_type": "stream",
     "text": [
      "****************************************\n",
      "\n",
      "****************************************\n",
      "  GENRE: fantasy_supernatural_horror   \n",
      "````````````````````````````````````````\n",
      "    Accuracy:         0.8917\n",
      "    Precision:        0.5694\n",
      "    Recall:           0.6467\n",
      "    F1:               0.6056\n",
      "    AUC:              0.7873\n",
      "````````````````````````````````````````\n"
     ]
    },
    {
     "data": {
      "image/png": "[encoded data removed]",
      "text/plain": [
       "<Figure size 432x288 with 2 Axes>"
      ]
     },
     "metadata": {
      "needs_background": "light"
     },
     "output_type": "display_data"
    },
    {
     "name": "stdout",
     "output_type": "stream",
     "text": [
      "****************************************\n",
      "\n",
      "****************************************\n",
      "  GENRE: mystery                       \n",
      "````````````````````````````````````````\n",
      "    Accuracy:         0.8952\n",
      "    Precision:        0.6190\n",
      "    Recall:           0.6976\n",
      "    F1:               0.6560\n",
      "    AUC:              0.8129\n",
      "````````````````````````````````````````\n"
     ]
    },
    {
     "data": {
      "image/png": "[encoded data removed]",
      "text/plain": [
       "<Figure size 432x288 with 2 Axes>"
      ]
     },
     "metadata": {
      "needs_background": "light"
     },
     "output_type": "display_data"
    },
    {
     "name": "stdout",
     "output_type": "stream",
     "text": [
      "****************************************\n",
      "\n",
      "****************************************\n",
      "  GENRE: life                          \n",
      "````````````````````````````````````````\n",
      "    Accuracy:         0.8763\n",
      "    Precision:        0.3563\n",
      "    Recall:           0.4351\n",
      "    F1:               0.3918\n",
      "    AUC:              0.6779\n",
      "````````````````````````````````````````\n"
     ]
    },
    {
     "data": {
      "image/png": "[encoded data removed]",
      "text/plain": [
       "<Figure size 432x288 with 2 Axes>"
      ]
     },
     "metadata": {
      "needs_background": "light"
     },
     "output_type": "display_data"
    },
    {
     "name": "stdout",
     "output_type": "stream",
     "text": [
      "****************************************\n",
      "\n",
      "****************************************\n",
      "  GENRE: family                        \n",
      "````````````````````````````````````````\n",
      "    Accuracy:         0.8791\n",
      "    Precision:        0.4734\n",
      "    Recall:           0.6049\n",
      "    F1:               0.5312\n",
      "    AUC:              0.7595\n",
      "````````````````````````````````````````\n"
     ]
    },
    {
     "data": {
      "image/png": "[encoded data removed]",
      "text/plain": [
       "<Figure size 432x288 with 2 Axes>"
      ]
     },
     "metadata": {
      "needs_background": "light"
     },
     "output_type": "display_data"
    },
    {
     "name": "stdout",
     "output_type": "stream",
     "text": [
      "****************************************\n",
      "\n"
     ]
    }
   ],
   "source": [
    "metric_serlist = []\n",
    "result_dfs = []\n",
    "\n",
    "for genre in bat_targets:\n",
    "    clf = clf_dict[genre]\n",
    "    X_test,y_test = test_vars[genre][\"X_test\"],test_vars[genre][\"y_test\"]\n",
    "    y_pred = clf.predict(X_test)\n",
    "    \n",
    "    metric_serlist.append(display_metrics(y_pred,y_test))\n",
    "    \n",
    "    result_dfs.append(get_result_df(y_pred))"
   ]
  },
  {
   "cell_type": "code",
   "execution_count": 15,
   "id": "b396a04a",
   "metadata": {},
   "outputs": [
    {
     "data": {
      "text/html": [
       "<div>\n",
       "<style scoped>\n",
       "    .dataframe tbody tr th:only-of-type {\n",
       "        vertical-align: middle;\n",
       "    }\n",
       "\n",
       "    .dataframe tbody tr th {\n",
       "        vertical-align: top;\n",
       "    }\n",
       "\n",
       "    .dataframe thead th {\n",
       "        text-align: right;\n",
       "    }\n",
       "</style>\n",
       "<table border=\"1\" class=\"dataframe\">\n",
       "  <thead>\n",
       "    <tr style=\"text-align: right;\">\n",
       "      <th></th>\n",
       "      <th>romance</th>\n",
       "      <th>sitcom_comedy</th>\n",
       "      <th>comedy</th>\n",
       "      <th>war_historical</th>\n",
       "      <th>political_drama</th>\n",
       "      <th>thriller</th>\n",
       "      <th>friendship</th>\n",
       "      <th>melodrama_romance</th>\n",
       "      <th>drama</th>\n",
       "      <th>action</th>\n",
       "      <th>historical</th>\n",
       "      <th>youth_school</th>\n",
       "      <th>fantasy_supernatural_horror</th>\n",
       "      <th>mystery</th>\n",
       "      <th>life</th>\n",
       "      <th>family</th>\n",
       "    </tr>\n",
       "  </thead>\n",
       "  <tbody>\n",
       "    <tr>\n",
       "      <th>accuracy</th>\n",
       "      <td>0.835080</td>\n",
       "      <td>0.759609</td>\n",
       "      <td>0.766597</td>\n",
       "      <td>0.944095</td>\n",
       "      <td>0.603075</td>\n",
       "      <td>0.897275</td>\n",
       "      <td>0.865828</td>\n",
       "      <td>0.841370</td>\n",
       "      <td>0.588400</td>\n",
       "      <td>0.899371</td>\n",
       "      <td>0.946191</td>\n",
       "      <td>0.889588</td>\n",
       "      <td>0.891684</td>\n",
       "      <td>0.895178</td>\n",
       "      <td>0.876310</td>\n",
       "      <td>0.879106</td>\n",
       "    </tr>\n",
       "    <tr>\n",
       "      <th>precision</th>\n",
       "      <td>0.847011</td>\n",
       "      <td>0.649351</td>\n",
       "      <td>0.651769</td>\n",
       "      <td>0.731343</td>\n",
       "      <td>0.642857</td>\n",
       "      <td>0.512987</td>\n",
       "      <td>0.321212</td>\n",
       "      <td>0.854000</td>\n",
       "      <td>0.598923</td>\n",
       "      <td>0.406452</td>\n",
       "      <td>0.718593</td>\n",
       "      <td>0.562212</td>\n",
       "      <td>0.569378</td>\n",
       "      <td>0.619048</td>\n",
       "      <td>0.356250</td>\n",
       "      <td>0.473430</td>\n",
       "    </tr>\n",
       "    <tr>\n",
       "      <th>recall</th>\n",
       "      <td>0.907709</td>\n",
       "      <td>0.693069</td>\n",
       "      <td>0.704225</td>\n",
       "      <td>0.849711</td>\n",
       "      <td>0.619898</td>\n",
       "      <td>0.523179</td>\n",
       "      <td>0.398496</td>\n",
       "      <td>0.913369</td>\n",
       "      <td>0.604620</td>\n",
       "      <td>0.547826</td>\n",
       "      <td>0.871951</td>\n",
       "      <td>0.659459</td>\n",
       "      <td>0.646739</td>\n",
       "      <td>0.697561</td>\n",
       "      <td>0.435115</td>\n",
       "      <td>0.604938</td>\n",
       "    </tr>\n",
       "    <tr>\n",
       "      <th>fl</th>\n",
       "      <td>0.876310</td>\n",
       "      <td>0.670498</td>\n",
       "      <td>0.676983</td>\n",
       "      <td>0.786096</td>\n",
       "      <td>0.631169</td>\n",
       "      <td>0.518033</td>\n",
       "      <td>0.355705</td>\n",
       "      <td>0.882687</td>\n",
       "      <td>0.601758</td>\n",
       "      <td>0.466667</td>\n",
       "      <td>0.787879</td>\n",
       "      <td>0.606965</td>\n",
       "      <td>0.605598</td>\n",
       "      <td>0.655963</td>\n",
       "      <td>0.391753</td>\n",
       "      <td>0.531165</td>\n",
       "    </tr>\n",
       "    <tr>\n",
       "      <th>auc</th>\n",
       "      <td>0.805815</td>\n",
       "      <td>0.744483</td>\n",
       "      <td>0.752006</td>\n",
       "      <td>0.903393</td>\n",
       "      <td>0.601294</td>\n",
       "      <td>0.732293</td>\n",
       "      <td>0.656105</td>\n",
       "      <td>0.809507</td>\n",
       "      <td>0.587921</td>\n",
       "      <td>0.738959</td>\n",
       "      <td>0.913876</td>\n",
       "      <td>0.791608</td>\n",
       "      <td>0.787283</td>\n",
       "      <td>0.812891</td>\n",
       "      <td>0.677942</td>\n",
       "      <td>0.759522</td>\n",
       "    </tr>\n",
       "  </tbody>\n",
       "</table>\n",
       "</div>"
      ],
      "text/plain": [
       "            romance  sitcom_comedy    comedy  war_historical  political_drama  \\\n",
       "accuracy   0.835080       0.759609  0.766597        0.944095         0.603075   \n",
       "precision  0.847011       0.649351  0.651769        0.731343         0.642857   \n",
       "recall     0.907709       0.693069  0.704225        0.849711         0.619898   \n",
       "fl         0.876310       0.670498  0.676983        0.786096         0.631169   \n",
       "auc        0.805815       0.744483  0.752006        0.903393         0.601294   \n",
       "\n",
       "           thriller  friendship  melodrama_romance     drama    action  \\\n",
       "accuracy   0.897275    0.865828           0.841370  0.588400  0.899371   \n",
       "precision  0.512987    0.321212           0.854000  0.598923  0.406452   \n",
       "recall     0.523179    0.398496           0.913369  0.604620  0.547826   \n",
       "fl         0.518033    0.355705           0.882687  0.601758  0.466667   \n",
       "auc        0.732293    0.656105           0.809507  0.587921  0.738959   \n",
       "\n",
       "           historical  youth_school  fantasy_supernatural_horror   mystery  \\\n",
       "accuracy     0.946191      0.889588                     0.891684  0.895178   \n",
       "precision    0.718593      0.562212                     0.569378  0.619048   \n",
       "recall       0.871951      0.659459                     0.646739  0.697561   \n",
       "fl           0.787879      0.606965                     0.605598  0.655963   \n",
       "auc          0.913876      0.791608                     0.787283  0.812891   \n",
       "\n",
       "               life    family  \n",
       "accuracy   0.876310  0.879106  \n",
       "precision  0.356250  0.473430  \n",
       "recall     0.435115  0.604938  \n",
       "fl         0.391753  0.531165  \n",
       "auc        0.677942  0.759522  "
      ]
     },
     "execution_count": 15,
     "metadata": {},
     "output_type": "execute_result"
    }
   ],
   "source": [
    "metric_df = pd.concat(metric_serlist,axis=1)\n",
    "metric_df"
   ]
  },
  {
   "cell_type": "code",
   "execution_count": 16,
   "id": "24b9675c",
   "metadata": {},
   "outputs": [],
   "source": [
    "# save metrics\n",
    "\n",
    "metric_df.to_json(\"model_metrics_bygenre.json\")"
   ]
  },
  {
   "cell_type": "code",
   "execution_count": 17,
   "id": "034a16db",
   "metadata": {},
   "outputs": [],
   "source": [
    "# to compare genre sets\n",
    "\n",
    "all_results = result_dfs[0]\n",
    "for item in result_dfs[1:]:\n",
    "    all_results = all_results.join(item)"
   ]
  },
  {
   "cell_type": "code",
   "execution_count": 18,
   "id": "7ed55f56",
   "metadata": {},
   "outputs": [],
   "source": [
    "# drop the genre_test columns since they are already in orig dataset\n",
    "drop_testcols = [genre+\"_test\" for genre in bat_targets]\n",
    "all_results.drop(columns=drop_testcols, inplace=True)"
   ]
  },
  {
   "cell_type": "code",
   "execution_count": 19,
   "id": "cd1ba2bd",
   "metadata": {},
   "outputs": [
    {
     "name": "stdout",
     "output_type": "stream",
     "text": [
      "(1431, 49)\n"
     ]
    },
    {
     "data": {
      "text/html": [
       "<div>\n",
       "<style scoped>\n",
       "    .dataframe tbody tr th:only-of-type {\n",
       "        vertical-align: middle;\n",
       "    }\n",
       "\n",
       "    .dataframe tbody tr th {\n",
       "        vertical-align: top;\n",
       "    }\n",
       "\n",
       "    .dataframe thead th {\n",
       "        text-align: right;\n",
       "    }\n",
       "</style>\n",
       "<table border=\"1\" class=\"dataframe\">\n",
       "  <thead>\n",
       "    <tr style=\"text-align: right;\">\n",
       "      <th></th>\n",
       "      <th>country</th>\n",
       "      <th>crew</th>\n",
       "      <th>ep_duration</th>\n",
       "      <th>episodes</th>\n",
       "      <th>genres</th>\n",
       "      <th>id</th>\n",
       "      <th>main_cast</th>\n",
       "      <th>num_ratings</th>\n",
       "      <th>num_watchers</th>\n",
       "      <th>orig_network</th>\n",
       "      <th>...</th>\n",
       "      <th>friendship_pred</th>\n",
       "      <th>melodrama_romance_pred</th>\n",
       "      <th>drama_pred</th>\n",
       "      <th>action_pred</th>\n",
       "      <th>historical_pred</th>\n",
       "      <th>youth_school_pred</th>\n",
       "      <th>fantasy_supernatural_horror_pred</th>\n",
       "      <th>mystery_pred</th>\n",
       "      <th>life_pred</th>\n",
       "      <th>family_pred</th>\n",
       "    </tr>\n",
       "  </thead>\n",
       "  <tbody>\n",
       "    <tr>\n",
       "      <th>1</th>\n",
       "      <td>Japan</td>\n",
       "      <td>[/people/15966-ozaki-masaya, /people/16318-tae...</td>\n",
       "      <td>45 min.</td>\n",
       "      <td>11</td>\n",
       "      <td>{melodrama_romance, romance, political_drama, ...</td>\n",
       "      <td>/2695-nisennen-no-koi</td>\n",
       "      <td>[/people/1426-nakayama-miho, /people/518-kanes...</td>\n",
       "      <td>83</td>\n",
       "      <td>278</td>\n",
       "      <td>[Fuji TV]</td>\n",
       "      <td>...</td>\n",
       "      <td>0</td>\n",
       "      <td>1</td>\n",
       "      <td>0</td>\n",
       "      <td>0</td>\n",
       "      <td>0</td>\n",
       "      <td>0</td>\n",
       "      <td>0</td>\n",
       "      <td>0</td>\n",
       "      <td>0</td>\n",
       "      <td>0</td>\n",
       "    </tr>\n",
       "    <tr>\n",
       "      <th>3</th>\n",
       "      <td>Thailand</td>\n",
       "      <td>[/people/76819-phanom-thian, /people/15733-yam...</td>\n",
       "      <td>2 hr. 0 min.</td>\n",
       "      <td>11</td>\n",
       "      <td>{melodrama_romance, romance, political_drama, ...</td>\n",
       "      <td>/13492-massaya</td>\n",
       "      <td>[/people/7331-gregson-andrew, /people/9902-for...</td>\n",
       "      <td>71</td>\n",
       "      <td>174</td>\n",
       "      <td>[Channel 7]</td>\n",
       "      <td>...</td>\n",
       "      <td>0</td>\n",
       "      <td>1</td>\n",
       "      <td>1</td>\n",
       "      <td>0</td>\n",
       "      <td>1</td>\n",
       "      <td>0</td>\n",
       "      <td>0</td>\n",
       "      <td>0</td>\n",
       "      <td>0</td>\n",
       "      <td>0</td>\n",
       "    </tr>\n",
       "    <tr>\n",
       "      <th>19</th>\n",
       "      <td>South Korea</td>\n",
       "      <td>[/people/67407-kim-sun-young, /people/67289-le...</td>\n",
       "      <td>60 min.</td>\n",
       "      <td>16</td>\n",
       "      <td>{melodrama_romance, romance, comedy, sitcom_co...</td>\n",
       "      <td>/2821-mr.-duke</td>\n",
       "      <td>[/people/557-choi-ji-woo, /people/1198-kim-seu...</td>\n",
       "      <td>91</td>\n",
       "      <td>286</td>\n",
       "      <td>[MBC]</td>\n",
       "      <td>...</td>\n",
       "      <td>0</td>\n",
       "      <td>1</td>\n",
       "      <td>0</td>\n",
       "      <td>0</td>\n",
       "      <td>0</td>\n",
       "      <td>0</td>\n",
       "      <td>0</td>\n",
       "      <td>0</td>\n",
       "      <td>0</td>\n",
       "      <td>0</td>\n",
       "    </tr>\n",
       "    <tr>\n",
       "      <th>20</th>\n",
       "      <td>Thailand</td>\n",
       "      <td>[/people/16743-salaya-sukanivatt, /people/3753...</td>\n",
       "      <td>1 hr. 20 min.</td>\n",
       "      <td>20</td>\n",
       "      <td>{drama, family, romance, political_drama, melo...</td>\n",
       "      <td>/14816-luk-mai-klai-ton</td>\n",
       "      <td>[/people/7331-gregson-andrew, /people/8023-kon...</td>\n",
       "      <td>51</td>\n",
       "      <td>183</td>\n",
       "      <td>[Channel 7]</td>\n",
       "      <td>...</td>\n",
       "      <td>0</td>\n",
       "      <td>1</td>\n",
       "      <td>1</td>\n",
       "      <td>0</td>\n",
       "      <td>0</td>\n",
       "      <td>0</td>\n",
       "      <td>0</td>\n",
       "      <td>0</td>\n",
       "      <td>0</td>\n",
       "      <td>1</td>\n",
       "    </tr>\n",
       "    <tr>\n",
       "      <th>21</th>\n",
       "      <td>South Korea</td>\n",
       "      <td>[/people/67287-kim-sa-hyun, /people/67395-park...</td>\n",
       "      <td>1 hr. 5 min.</td>\n",
       "      <td>18</td>\n",
       "      <td>{melodrama_romance, romance, political_drama, ...</td>\n",
       "      <td>/1209-secret-2000</td>\n",
       "      <td>[/people/403-kim-ha-neul, /people/1249-kim-min...</td>\n",
       "      <td>75</td>\n",
       "      <td>361</td>\n",
       "      <td>[MBC]</td>\n",
       "      <td>...</td>\n",
       "      <td>0</td>\n",
       "      <td>1</td>\n",
       "      <td>0</td>\n",
       "      <td>0</td>\n",
       "      <td>0</td>\n",
       "      <td>0</td>\n",
       "      <td>0</td>\n",
       "      <td>0</td>\n",
       "      <td>0</td>\n",
       "      <td>0</td>\n",
       "    </tr>\n",
       "  </tbody>\n",
       "</table>\n",
       "<p>5 rows × 49 columns</p>\n",
       "</div>"
      ],
      "text/plain": [
       "        country                                               crew  \\\n",
       "1         Japan  [/people/15966-ozaki-masaya, /people/16318-tae...   \n",
       "3      Thailand  [/people/76819-phanom-thian, /people/15733-yam...   \n",
       "19  South Korea  [/people/67407-kim-sun-young, /people/67289-le...   \n",
       "20     Thailand  [/people/16743-salaya-sukanivatt, /people/3753...   \n",
       "21  South Korea  [/people/67287-kim-sa-hyun, /people/67395-park...   \n",
       "\n",
       "      ep_duration  episodes  \\\n",
       "1         45 min.        11   \n",
       "3    2 hr. 0 min.        11   \n",
       "19        60 min.        16   \n",
       "20  1 hr. 20 min.        20   \n",
       "21   1 hr. 5 min.        18   \n",
       "\n",
       "                                               genres  \\\n",
       "1   {melodrama_romance, romance, political_drama, ...   \n",
       "3   {melodrama_romance, romance, political_drama, ...   \n",
       "19  {melodrama_romance, romance, comedy, sitcom_co...   \n",
       "20  {drama, family, romance, political_drama, melo...   \n",
       "21  {melodrama_romance, romance, political_drama, ...   \n",
       "\n",
       "                         id  \\\n",
       "1     /2695-nisennen-no-koi   \n",
       "3            /13492-massaya   \n",
       "19           /2821-mr.-duke   \n",
       "20  /14816-luk-mai-klai-ton   \n",
       "21        /1209-secret-2000   \n",
       "\n",
       "                                            main_cast  num_ratings  \\\n",
       "1   [/people/1426-nakayama-miho, /people/518-kanes...           83   \n",
       "3   [/people/7331-gregson-andrew, /people/9902-for...           71   \n",
       "19  [/people/557-choi-ji-woo, /people/1198-kim-seu...           91   \n",
       "20  [/people/7331-gregson-andrew, /people/8023-kon...           51   \n",
       "21  [/people/403-kim-ha-neul, /people/1249-kim-min...           75   \n",
       "\n",
       "    num_watchers orig_network  ...  friendship_pred melodrama_romance_pred  \\\n",
       "1            278    [Fuji TV]  ...                0                      1   \n",
       "3            174  [Channel 7]  ...                0                      1   \n",
       "19           286        [MBC]  ...                0                      1   \n",
       "20           183  [Channel 7]  ...                0                      1   \n",
       "21           361        [MBC]  ...                0                      1   \n",
       "\n",
       "   drama_pred action_pred historical_pred youth_school_pred  \\\n",
       "1           0           0               0                 0   \n",
       "3           1           0               1                 0   \n",
       "19          0           0               0                 0   \n",
       "20          1           0               0                 0   \n",
       "21          0           0               0                 0   \n",
       "\n",
       "    fantasy_supernatural_horror_pred  mystery_pred  life_pred  family_pred  \n",
       "1                                  0             0          0            0  \n",
       "3                                  0             0          0            0  \n",
       "19                                 0             0          0            0  \n",
       "20                                 0             0          0            1  \n",
       "21                                 0             0          0            0  \n",
       "\n",
       "[5 rows x 49 columns]"
      ]
     },
     "execution_count": 19,
     "metadata": {},
     "output_type": "execute_result"
    }
   ],
   "source": [
    "# adjust case for list of genres, change to set\n",
    "def forgl(x):\n",
    "    x2 = []\n",
    "    for i in x:\n",
    "        i = i.lower().replace(\" \",\"_\")\n",
    "        x2.append(i)\n",
    "    return set(x2)\n",
    "\n",
    "test_compare = dataset.join(all_results, how=\"inner\")\n",
    "test_compare[\"genres\"] = test_compare[\"genres\"].apply(forgl)\n",
    "print(test_compare.shape)\n",
    "test_compare.head()"
   ]
  },
  {
   "cell_type": "code",
   "execution_count": 20,
   "id": "e00a350d",
   "metadata": {},
   "outputs": [
    {
     "data": {
      "text/html": [
       "<div>\n",
       "<style scoped>\n",
       "    .dataframe tbody tr th:only-of-type {\n",
       "        vertical-align: middle;\n",
       "    }\n",
       "\n",
       "    .dataframe tbody tr th {\n",
       "        vertical-align: top;\n",
       "    }\n",
       "\n",
       "    .dataframe thead th {\n",
       "        text-align: right;\n",
       "    }\n",
       "</style>\n",
       "<table border=\"1\" class=\"dataframe\">\n",
       "  <thead>\n",
       "    <tr style=\"text-align: right;\">\n",
       "      <th></th>\n",
       "      <th>genres</th>\n",
       "      <th>genres_pred</th>\n",
       "    </tr>\n",
       "  </thead>\n",
       "  <tbody>\n",
       "    <tr>\n",
       "      <th>1</th>\n",
       "      <td>{melodrama_romance, romance, political_drama, ...</td>\n",
       "      <td>{melodrama_romance, romance}</td>\n",
       "    </tr>\n",
       "    <tr>\n",
       "      <th>3</th>\n",
       "      <td>{melodrama_romance, romance, political_drama, ...</td>\n",
       "      <td>{drama, war_historical, historical, political_...</td>\n",
       "    </tr>\n",
       "    <tr>\n",
       "      <th>19</th>\n",
       "      <td>{melodrama_romance, romance, comedy, sitcom_co...</td>\n",
       "      <td>{melodrama_romance, romance, comedy, sitcom_co...</td>\n",
       "    </tr>\n",
       "    <tr>\n",
       "      <th>20</th>\n",
       "      <td>{drama, family, romance, political_drama, melo...</td>\n",
       "      <td>{drama, family, political_drama, melodrama_rom...</td>\n",
       "    </tr>\n",
       "    <tr>\n",
       "      <th>21</th>\n",
       "      <td>{melodrama_romance, romance, political_drama, ...</td>\n",
       "      <td>{melodrama_romance, romance}</td>\n",
       "    </tr>\n",
       "    <tr>\n",
       "      <th>...</th>\n",
       "      <td>...</td>\n",
       "      <td>...</td>\n",
       "    </tr>\n",
       "    <tr>\n",
       "      <th>4758</th>\n",
       "      <td>{melodrama_romance, romance, political_drama, ...</td>\n",
       "      <td>{drama, fantasy_supernatural_horror, political...</td>\n",
       "    </tr>\n",
       "    <tr>\n",
       "      <th>4761</th>\n",
       "      <td>{thriller, mystery, fantasy_supernatural_horror}</td>\n",
       "      <td>{melodrama_romance, romance, drama, political_...</td>\n",
       "    </tr>\n",
       "    <tr>\n",
       "      <th>4762</th>\n",
       "      <td>{youth_school, sitcom_comedy, melodrama_romanc...</td>\n",
       "      <td>{sitcom_comedy, drama, youth_school, political...</td>\n",
       "    </tr>\n",
       "    <tr>\n",
       "      <th>4764</th>\n",
       "      <td>{comedy, sitcom_comedy, melodrama_romance, rom...</td>\n",
       "      <td>{drama, political_drama, melodrama_romance, ro...</td>\n",
       "    </tr>\n",
       "    <tr>\n",
       "      <th>4766</th>\n",
       "      <td>{melodrama_romance, romance, comedy, sitcom_co...</td>\n",
       "      <td>{drama, youth_school, political_drama, melodra...</td>\n",
       "    </tr>\n",
       "  </tbody>\n",
       "</table>\n",
       "<p>1431 rows × 2 columns</p>\n",
       "</div>"
      ],
      "text/plain": [
       "                                                 genres  \\\n",
       "1     {melodrama_romance, romance, political_drama, ...   \n",
       "3     {melodrama_romance, romance, political_drama, ...   \n",
       "19    {melodrama_romance, romance, comedy, sitcom_co...   \n",
       "20    {drama, family, romance, political_drama, melo...   \n",
       "21    {melodrama_romance, romance, political_drama, ...   \n",
       "...                                                 ...   \n",
       "4758  {melodrama_romance, romance, political_drama, ...   \n",
       "4761   {thriller, mystery, fantasy_supernatural_horror}   \n",
       "4762  {youth_school, sitcom_comedy, melodrama_romanc...   \n",
       "4764  {comedy, sitcom_comedy, melodrama_romance, rom...   \n",
       "4766  {melodrama_romance, romance, comedy, sitcom_co...   \n",
       "\n",
       "                                            genres_pred  \n",
       "1                          {melodrama_romance, romance}  \n",
       "3     {drama, war_historical, historical, political_...  \n",
       "19    {melodrama_romance, romance, comedy, sitcom_co...  \n",
       "20    {drama, family, political_drama, melodrama_rom...  \n",
       "21                         {melodrama_romance, romance}  \n",
       "...                                                 ...  \n",
       "4758  {drama, fantasy_supernatural_horror, political...  \n",
       "4761  {melodrama_romance, romance, drama, political_...  \n",
       "4762  {sitcom_comedy, drama, youth_school, political...  \n",
       "4764  {drama, political_drama, melodrama_romance, ro...  \n",
       "4766  {drama, youth_school, political_drama, melodra...  \n",
       "\n",
       "[1431 rows x 2 columns]"
      ]
     },
     "execution_count": 20,
     "metadata": {},
     "output_type": "execute_result"
    }
   ],
   "source": [
    "genres_pred_data = []\n",
    "\n",
    "for index,row in test_compare.iterrows():\n",
    "    # add genre to set if predicted\n",
    "    genres_pred = set()\n",
    "    for genre in bat_targets:\n",
    "        pred_col = genre+\"_pred\"\n",
    "        if row[pred_col] == 1:\n",
    "            genres_pred.add(genre)\n",
    "    genres_pred_data.append(genres_pred)\n",
    "\n",
    "test_compare[\"genres_pred\"] = genres_pred_data\n",
    "\n",
    "test_compare[[\"genres\",\"genres_pred\"]]"
   ]
  },
  {
   "cell_type": "code",
   "execution_count": 21,
   "id": "aa4905ee",
   "metadata": {},
   "outputs": [
    {
     "data": {
      "text/html": [
       "<div>\n",
       "<style scoped>\n",
       "    .dataframe tbody tr th:only-of-type {\n",
       "        vertical-align: middle;\n",
       "    }\n",
       "\n",
       "    .dataframe tbody tr th {\n",
       "        vertical-align: top;\n",
       "    }\n",
       "\n",
       "    .dataframe thead th {\n",
       "        text-align: right;\n",
       "    }\n",
       "</style>\n",
       "<table border=\"1\" class=\"dataframe\">\n",
       "  <thead>\n",
       "    <tr style=\"text-align: right;\">\n",
       "      <th></th>\n",
       "      <th>title</th>\n",
       "      <th>genres</th>\n",
       "      <th>genres_pred</th>\n",
       "      <th>jaccard_similarity</th>\n",
       "    </tr>\n",
       "  </thead>\n",
       "  <tbody>\n",
       "    <tr>\n",
       "      <th>1</th>\n",
       "      <td>Nisennen no Koi</td>\n",
       "      <td>{melodrama_romance, romance, political_drama, ...</td>\n",
       "      <td>{melodrama_romance, romance}</td>\n",
       "      <td>0.500000</td>\n",
       "    </tr>\n",
       "    <tr>\n",
       "      <th>3</th>\n",
       "      <td>Massaya</td>\n",
       "      <td>{melodrama_romance, romance, political_drama, ...</td>\n",
       "      <td>{drama, war_historical, historical, political_...</td>\n",
       "      <td>0.666667</td>\n",
       "    </tr>\n",
       "    <tr>\n",
       "      <th>19</th>\n",
       "      <td>Mr. Duke</td>\n",
       "      <td>{melodrama_romance, romance, comedy, sitcom_co...</td>\n",
       "      <td>{melodrama_romance, romance, comedy, sitcom_co...</td>\n",
       "      <td>1.000000</td>\n",
       "    </tr>\n",
       "    <tr>\n",
       "      <th>20</th>\n",
       "      <td>Luk Mai Klai Ton</td>\n",
       "      <td>{drama, family, romance, political_drama, melo...</td>\n",
       "      <td>{drama, family, political_drama, melodrama_rom...</td>\n",
       "      <td>0.833333</td>\n",
       "    </tr>\n",
       "    <tr>\n",
       "      <th>21</th>\n",
       "      <td>Secret</td>\n",
       "      <td>{melodrama_romance, romance, political_drama, ...</td>\n",
       "      <td>{melodrama_romance, romance}</td>\n",
       "      <td>0.500000</td>\n",
       "    </tr>\n",
       "    <tr>\n",
       "      <th>...</th>\n",
       "      <td>...</td>\n",
       "      <td>...</td>\n",
       "      <td>...</td>\n",
       "      <td>...</td>\n",
       "    </tr>\n",
       "    <tr>\n",
       "      <th>4758</th>\n",
       "      <td>Happenstance</td>\n",
       "      <td>{melodrama_romance, romance, political_drama, ...</td>\n",
       "      <td>{drama, fantasy_supernatural_horror, political...</td>\n",
       "      <td>0.400000</td>\n",
       "    </tr>\n",
       "    <tr>\n",
       "      <th>4761</th>\n",
       "      <td>Kishibe Rohan wa Ugokanai</td>\n",
       "      <td>{thriller, mystery, fantasy_supernatural_horror}</td>\n",
       "      <td>{melodrama_romance, romance, drama, political_...</td>\n",
       "      <td>0.000000</td>\n",
       "    </tr>\n",
       "    <tr>\n",
       "      <th>4762</th>\n",
       "      <td>A Love So Beautiful</td>\n",
       "      <td>{youth_school, sitcom_comedy, melodrama_romanc...</td>\n",
       "      <td>{sitcom_comedy, drama, youth_school, political...</td>\n",
       "      <td>0.714286</td>\n",
       "    </tr>\n",
       "    <tr>\n",
       "      <th>4764</th>\n",
       "      <td>Irresistible Love</td>\n",
       "      <td>{comedy, sitcom_comedy, melodrama_romance, rom...</td>\n",
       "      <td>{drama, political_drama, melodrama_romance, ro...</td>\n",
       "      <td>0.428571</td>\n",
       "    </tr>\n",
       "    <tr>\n",
       "      <th>4766</th>\n",
       "      <td>The Man of My Life</td>\n",
       "      <td>{melodrama_romance, romance, comedy, sitcom_co...</td>\n",
       "      <td>{drama, youth_school, political_drama, melodra...</td>\n",
       "      <td>0.285714</td>\n",
       "    </tr>\n",
       "  </tbody>\n",
       "</table>\n",
       "<p>1431 rows × 4 columns</p>\n",
       "</div>"
      ],
      "text/plain": [
       "                           title  \\\n",
       "1               Nisennen no Koi    \n",
       "3                       Massaya    \n",
       "19                     Mr. Duke    \n",
       "20             Luk Mai Klai Ton    \n",
       "21                       Secret    \n",
       "...                          ...   \n",
       "4758               Happenstance    \n",
       "4761  Kishibe Rohan wa Ugokanai    \n",
       "4762        A Love So Beautiful    \n",
       "4764          Irresistible Love    \n",
       "4766         The Man of My Life    \n",
       "\n",
       "                                                 genres  \\\n",
       "1     {melodrama_romance, romance, political_drama, ...   \n",
       "3     {melodrama_romance, romance, political_drama, ...   \n",
       "19    {melodrama_romance, romance, comedy, sitcom_co...   \n",
       "20    {drama, family, romance, political_drama, melo...   \n",
       "21    {melodrama_romance, romance, political_drama, ...   \n",
       "...                                                 ...   \n",
       "4758  {melodrama_romance, romance, political_drama, ...   \n",
       "4761   {thriller, mystery, fantasy_supernatural_horror}   \n",
       "4762  {youth_school, sitcom_comedy, melodrama_romanc...   \n",
       "4764  {comedy, sitcom_comedy, melodrama_romance, rom...   \n",
       "4766  {melodrama_romance, romance, comedy, sitcom_co...   \n",
       "\n",
       "                                            genres_pred  jaccard_similarity  \n",
       "1                          {melodrama_romance, romance}            0.500000  \n",
       "3     {drama, war_historical, historical, political_...            0.666667  \n",
       "19    {melodrama_romance, romance, comedy, sitcom_co...            1.000000  \n",
       "20    {drama, family, political_drama, melodrama_rom...            0.833333  \n",
       "21                         {melodrama_romance, romance}            0.500000  \n",
       "...                                                 ...                 ...  \n",
       "4758  {drama, fantasy_supernatural_horror, political...            0.400000  \n",
       "4761  {melodrama_romance, romance, drama, political_...            0.000000  \n",
       "4762  {sitcom_comedy, drama, youth_school, political...            0.714286  \n",
       "4764  {drama, political_drama, melodrama_romance, ro...            0.428571  \n",
       "4766  {drama, youth_school, political_drama, melodra...            0.285714  \n",
       "\n",
       "[1431 rows x 4 columns]"
      ]
     },
     "execution_count": 21,
     "metadata": {},
     "output_type": "execute_result"
    }
   ],
   "source": [
    "# jaccard similarity\n",
    "## num in both sets / num in either set\n",
    "## or intersect / union\n",
    "def jaccard_sim(a,b):\n",
    "    # assuming that a,b are already sets\n",
    "    \n",
    "    numer = len(a&b)\n",
    "    denom = len(a|b)\n",
    "    \n",
    "    return numer/denom\n",
    " \n",
    "jac_sim_data = []\n",
    "    \n",
    "for index,row in test_compare[[\"genres\",\"genres_pred\"]].iterrows():\n",
    "    a,b = row\n",
    "    jac_sim_data.append(jaccard_sim(a,b))\n",
    "    \n",
    "test_compare[\"jaccard_similarity\"] = jac_sim_data\n",
    "test_compare[[\"title\",\"genres\",\"genres_pred\",\"jaccard_similarity\"]]"
   ]
  },
  {
   "cell_type": "code",
   "execution_count": 22,
   "id": "bb365dc9",
   "metadata": {},
   "outputs": [],
   "source": [
    "import matplotlib.pyplot as plt"
   ]
  },
  {
   "cell_type": "code",
   "execution_count": 24,
   "id": "abb1353f",
   "metadata": {},
   "outputs": [
    {
     "data": {
      "image/png": "[encoded data removed]",
      "text/plain": [
       "<Figure size 432x288 with 1 Axes>"
      ]
     },
     "metadata": {
      "needs_background": "light"
     },
     "output_type": "display_data"
    },
    {
     "data": {
      "text/plain": [
       "count    1431.000000\n",
       "mean        0.548312\n",
       "std         0.282724\n",
       "min         0.000000\n",
       "25%         0.333333\n",
       "50%         0.571429\n",
       "75%         0.750000\n",
       "max         1.000000\n",
       "Name: jaccard_similarity, dtype: float64"
      ]
     },
     "execution_count": 24,
     "metadata": {},
     "output_type": "execute_result"
    }
   ],
   "source": [
    "plt.boxplot(test_compare[\"jaccard_similarity\"])\n",
    "plt.xlabel(\"Jaccard Similarity\")\n",
    "plt.show()\n",
    "\n",
    "test_compare[\"jaccard_similarity\"].describe()"
   ]
  },
  {
   "cell_type": "code",
   "execution_count": 91,
   "id": "c7c1a720",
   "metadata": {},
   "outputs": [],
   "source": [
    "test_compare.to_json(\"dramainfo_revtested.json\")"
   ]
  },
  {
   "cell_type": "code",
   "execution_count": null,
   "id": "83ad6c6d",
   "metadata": {},
   "outputs": [],
   "source": []
  }
 ],
 "metadata": {
  "kernelspec": {
   "display_name": "Python 3",
   "language": "python",
   "name": "python3"
  },
  "language_info": {
   "codemirror_mode": {
    "name": "ipython",
    "version": 3
   },
   "file_extension": ".py",
   "mimetype": "text/x-python",
   "name": "python",
   "nbconvert_exporter": "python",
   "pygments_lexer": "ipython3",
   "version": "3.9.1"
  }
 },
 "nbformat": 4,
 "nbformat_minor": 5
}
